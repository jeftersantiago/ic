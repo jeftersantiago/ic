{
  "nbformat": 4,
  "nbformat_minor": 0,
  "metadata": {
    "colab": {
      "provenance": [],
      "authorship_tag": "ABX9TyM/UWryGUrMZqyjZ6/oh6Nc",
      "include_colab_link": true
    },
    "kernelspec": {
      "name": "python3",
      "display_name": "Python 3"
    },
    "language_info": {
      "name": "python"
    }
  },
  "cells": [
    {
      "cell_type": "markdown",
      "metadata": {
        "id": "view-in-github",
        "colab_type": "text"
      },
      "source": [
        "<a href=\"https://colab.research.google.com/github/jeftersantiago/ic/blob/master/2%20-%20benchmarking/Benchmarking.ipynb\" target=\"_parent\"><img src=\"https://colab.research.google.com/assets/colab-badge.svg\" alt=\"Open In Colab\"/></a>"
      ]
    },
    {
      "cell_type": "markdown",
      "source": [
        "[<img src=\"https://networkx.org/_static/networkx_logo.svg\">](https://networkx.org/documentation/latest/) [<img src=\"https://upload.wikimedia.org/wikipedia/commons/b/b8/Graph-tool-logo.png\">](https://graph-tool.skewed.de/static/doc/index.html)"
      ],
      "metadata": {
        "id": "NBuIGp1G6RzY"
      }
    },
    {
      "cell_type": "markdown",
      "source": [
        "# Lista de funções escolhidas para benchmarking\n"
      ],
      "metadata": {
        "id": "TBhjl9Xf7TB_"
      }
    },
    {
      "cell_type": "markdown",
      "source": [
        "# Bibliotecas utilizadas"
      ],
      "metadata": {
        "id": "f-PqN9WD7eiu"
      }
    },
    {
      "cell_type": "markdown",
      "source": [
        "# Metodologia"
      ],
      "metadata": {
        "id": "qHJVWFVg7WTI"
      }
    },
    {
      "cell_type": "markdown",
      "source": [
        "# NetworkX\n"
      ],
      "metadata": {
        "id": "xIu9i7-O7YS7"
      }
    },
    {
      "cell_type": "markdown",
      "source": [
        "# graph-tool"
      ],
      "metadata": {
        "id": "eEKXDdnb7ZzS"
      }
    },
    {
      "cell_type": "markdown",
      "source": [
        "# igraph"
      ],
      "metadata": {
        "id": "WxU44Ez77bAI"
      }
    }
  ]
}