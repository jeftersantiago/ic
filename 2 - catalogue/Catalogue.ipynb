{
  "nbformat": 4,
  "nbformat_minor": 0,
  "metadata": {
    "colab": {
      "provenance": [],
      "authorship_tag": "ABX9TyMrRjy8YOk8h44tgSfcZkrn",
      "include_colab_link": true
    },
    "kernelspec": {
      "name": "python3",
      "display_name": "Python 3"
    },
    "language_info": {
      "name": "python"
    }
  },
  "cells": [
    {
      "cell_type": "markdown",
      "metadata": {
        "id": "view-in-github",
        "colab_type": "text"
      },
      "source": [
        "<a href=\"https://colab.research.google.com/github/jeftersantiago/ic/blob/master/2%20-%20catalogue/Catalogue.ipynb\" target=\"_parent\"><img src=\"https://colab.research.google.com/assets/colab-badge.svg\" alt=\"Open In Colab\"/></a>"
      ]
    },
    {
      "cell_type": "markdown",
      "source": [
        "# Catalogo de funcionalidades dos pacotes\n"
      ],
      "metadata": {
        "id": "ItmWnlRc8L0a"
      }
    },
    {
      "cell_type": "markdown",
      "source": [
        "- [ ] Adicionar exemplo dos usos de cada funcionalidade em cada um dos pacotes.\n"
      ],
      "metadata": {
        "id": "L4qNmut88Q5O"
      }
    }
  ]
}