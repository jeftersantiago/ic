{
 "cells": [
  {
   "cell_type": "markdown",
   "metadata": {
    "id": "ItmWnlRc8L0a"
   },
   "source": [
    "# Catalogo de funcionalidades dos pacotes\n",
    "Funcionalidades fornecida pelos três pacotes. Engloba geração de grafos aleatórios, medidas de centralidade e outroas medidas em redes complexas, como detecção de comunidades. Essas funcionalidades não compreendem todo o escopo disponível individualmente nos pacotes `NetworkX`, `igraph` e `graph-tool`, e sim as features que eles têm em comum. \n",
    "Além disso, é importante destacar que algumas medidas não são implementadas inteiramente pelos pacotes, no caso de funções de detecção e ánalise de comunidades na `NetworkX` por exemplo, é necessário fazer o `import` de um módulo especifico da biblioteca, o `algorithms.community`.  "
   ]
  },
  {
   "cell_type": "markdown",
   "metadata": {
    "id": "jR0UqQhZu_Z8"
   },
   "source": [
    "## Geração de grafos aleatórios\n",
    "- Modelo de Erdős-Rényi\n",
    "- ~~Modelo de Watts-Strogats~~ Implementado manualmente por mim.\n",
    "- Modelo de Barabási-Albert - Price Network"
   ]
  },
  {
   "cell_type": "markdown",
   "metadata": {
    "id": "iCiion6bvCEq"
   },
   "source": [
    "## Medidas de centralidade\n",
    "\n",
    "- Degree centrality\n",
    "- Betweeness centrality\n",
    "- Closeness centrality\n",
    "- Eigenvector centrality\n",
    "- PageRank \n"
   ]
  },
  {
   "cell_type": "markdown",
   "metadata": {
    "id": "kMQvE1hOzRbo"
   },
   "source": [
    "## Medidas de estrutura local\n",
    "- Local Clustering coefficient "
   ]
  },
  {
   "cell_type": "markdown",
   "metadata": {
    "id": "eHPt7TLWvV-v"
   },
   "source": [
    "## Medidas globais de rede\n",
    "\n",
    "- Network density\n",
    "- Average path length \n",
    "- Diameter\n",
    "- Clustering coefficient\n",
    "- Modularity\n",
    "- Assortativity\n",
    "- Network resillience "
   ]
  },
  {
   "cell_type": "markdown",
   "metadata": {
    "id": "XK7noT4Dvg8O"
   },
   "source": [
    "## Estrutura de comunidade\n",
    "\n",
    "- Modularity: Única medida que os três pacotes tem em comum. Note que cada pacote apresenta implementação (ou implementações) diferentes para essa medida. O `NetworkX` tem várias implementações e a mais rápida parece ser a que utiliza um algoritmo guloso para realização do cálculo. "
   ]
  }
 ],
 "metadata": {
  "colab": {
   "authorship_tag": "ABX9TyM4oeae1yD4sIzo4p4mi47o",
   "provenance": []
  },
  "kernelspec": {
   "display_name": "Python 3 (ipykernel)",
   "language": "python",
   "name": "python3"
  },
  "language_info": {
   "codemirror_mode": {
    "name": "ipython",
    "version": 3
   },
   "file_extension": ".py",
   "mimetype": "text/x-python",
   "name": "python",
   "nbconvert_exporter": "python",
   "pygments_lexer": "ipython3",
   "version": "3.11.4"
  }
 },
 "nbformat": 4,
 "nbformat_minor": 4
}
