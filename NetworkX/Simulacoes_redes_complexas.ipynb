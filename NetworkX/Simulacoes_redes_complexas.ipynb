{
  "nbformat": 4,
  "nbformat_minor": 0,
  "metadata": {
    "colab": {
      "provenance": [],
      "authorship_tag": "ABX9TyO8zpSjVncNTK/QNQw9uEEO",
      "include_colab_link": true
    },
    "kernelspec": {
      "name": "python3",
      "display_name": "Python 3"
    },
    "language_info": {
      "name": "python"
    }
  },
  "cells": [
    {
      "cell_type": "markdown",
      "metadata": {
        "id": "view-in-github",
        "colab_type": "text"
      },
      "source": [
        "<a href=\"https://colab.research.google.com/github/jeftersantiago/ic_redes_complexas/blob/master/Simula%C3%A7%C3%B5es_de_redes_complexas_Networkx.ipynb\" target=\"_parent\"><img src=\"https://colab.research.google.com/assets/colab-badge.svg\" alt=\"Open In Colab\"/></a>"
      ]
    },
    {
      "cell_type": "markdown",
      "source": [
        "# Descrição do notebook"
      ],
      "metadata": {
        "id": "gIYsMZZ2co8G"
      }
    },
    {
      "cell_type": "markdown",
      "source": [
        "# Simulações\n",
        "- [X] Resultado de percolação em redes complexas de Erdos-Renyi\n",
        "- [ ] Reproduzir o resultado sobre o efeito de mundo pequeno de Watts e Strogatz .\n",
        "- [ ] Reproduzir o resultado de resiliência a ataques aleatórios e direcionados de redes com distribuição\n",
        "de grau livre de escala de Albert, Jeong e Barabási"
      ],
      "metadata": {
        "id": "f5395ahsdvkO"
      }
    },
    {
      "cell_type": "markdown",
      "source": [
        "## Bibliotecas utilizadas"
      ],
      "metadata": {
        "id": "6EYBwWZEd-Ut"
      }
    },
    {
      "cell_type": "code",
      "source": [
        "import networkx as nx\n",
        "import numpy as np\n",
        "import matplotlib.pyplot as plt\n",
        "import random\n",
        "import time"
      ],
      "metadata": {
        "id": "jXW3PqtHeDWN"
      },
      "execution_count": 1,
      "outputs": []
    },
    {
      "cell_type": "markdown",
      "source": [
        "## Percolação em redes complexas (Erdos-Renyi)\n",
        "\n"
      ],
      "metadata": {
        "id": "gZSNe_vUdxfG"
      }
    },
    {
      "cell_type": "code",
      "source": [
        "# numero de nós no grafo\n",
        "n = 500 \n",
        "# Lista de probabilidades p de criação de arestas.\n",
        "p = np.linspace(0, 0.1, n)\n",
        "\n",
        "# Lista com tamanho dos maiores componentes\n",
        "largest_cc = []\n",
        "start_time = time.time()\n",
        "# Cria grafo de Erdos-Renyi para cada probabilidade p e\n",
        "# armazena o valor do maior componente na lista.\n",
        "for i in range(n):\n",
        "    # Lista de grafos aleatorios com probabilidade p.\n",
        "    er = nx.gnp_random_graph(n,p[i])\n",
        "    # Tamanho do maior componente para cada probabilidade.\n",
        "    largest_cc.append(len(max(nx.connected_components(er), key=len)))\n",
        "\n",
        "# total_time = time.time() - start_time\n",
        "# print(\"For n = \", n)\n",
        "# print(\"--- %s seconds ---\" % total_time )"
      ],
      "metadata": {
        "id": "PqOK1NXqdzbl"
      },
      "execution_count": 2,
      "outputs": []
    },
    {
      "cell_type": "code",
      "source": [
        "plt.figure(figsize=(10,6))\n",
        "plt.plot(p, largest_cc)\n",
        "plt.title(\"Exemplo de cálculo transição de fase no modelo de Erdo-Renyi\", fontsize = 16)\n",
        "plt.xlabel(\"Probabilidade p\", fontsize = 16)\n",
        "plt.ylabel(\"Tamanho do maior componente\", fontsize = 16)\n",
        "plt.show()"
      ],
      "metadata": {
        "colab": {
          "base_uri": "https://localhost:8080/",
          "height": 412
        },
        "id": "0aKsYh_wd09F",
        "outputId": "bbdd5f45-3fa9-42cf-e3d3-62b95c6cd08b"
      },
      "execution_count": 3,
      "outputs": [
        {
          "output_type": "display_data",
          "data": {
            "text/plain": [
              "<Figure size 720x432 with 1 Axes>"
            ],
            "image/png": "[encoded data removed]"
          },
          "metadata": {
            "needs_background": "light"
          }
        }
      ]
    },
    {
      "cell_type": "markdown",
      "source": [
        "## Efeito de mundo pequeno (Strogatz-Watts)"
      ],
      "metadata": {
        "id": "we-WcG4vd2eu"
      }
    },
    {
      "cell_type": "markdown",
      "source": [
        "## Resiliência a ataques aleatórios e direcionados (Albert, Barabási e Jeong)\n",
        "\n"
      ],
      "metadata": {
        "id": "4Yz-Jow1d7tV"
      }
    }
  ]
}