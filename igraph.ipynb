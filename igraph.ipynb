{
  "nbformat": 4,
  "nbformat_minor": 0,
  "metadata": {
    "colab": {
      "provenance": [],
      "authorship_tag": "ABX9TyN8Q9rzMTZUE9oYivrqdgMf",
      "include_colab_link": true
    },
    "kernelspec": {
      "name": "python3",
      "display_name": "Python 3"
    },
    "language_info": {
      "name": "python"
    }
  },
  "cells": [
    {
      "cell_type": "markdown",
      "metadata": {
        "id": "view-in-github",
        "colab_type": "text"
      },
      "source": [
        "<a href=\"https://colab.research.google.com/github/jeftersantiago/ic_redes_complexas/blob/master/igraph.ipynb\" target=\"_parent\"><img src=\"https://colab.research.google.com/assets/colab-badge.svg\" alt=\"Open In Colab\"/></a>"
      ]
    },
    {
      "cell_type": "markdown",
      "source": [
        "# Descrição do notebook\n",
        "\n",
        "- Link da documentação do **igraph**: https://igraph.readthedocs.io/en/stable/index.html"
      ],
      "metadata": {
        "id": "8o0N4Yn4JniZ"
      }
    },
    {
      "cell_type": "markdown",
      "source": [
        "# Anotações sobre documentação da igraph-python\n",
        "\n",
        "\n",
        "+ **Visualização de grafos**\n",
        "  \n",
        "  A documentação é massante, principalmente em relação à NetworkX, os textos costumam ser longos e com poucos exemplos visuais com plots de grafos. Esse problema ocorre inclusive em alguns dos tutoriais sobre visualização de grafos usando igraph .i.e. https://igraph.org/python/tutorial/0.9.6/visualisation.html. \n",
        "\n",
        "  Isso pode tornar consultas à documentação mais cansativa e longa do que deveria, sobretudo quando se está aprendendo a usar a biblioteca.\n",
        "\n",
        "  + **Plotando grafos**\n",
        "  \n",
        "\n",
        "+ **Seleção de exemplos**\n",
        "  \n",
        "  A biblioteca é menos abrangente que a NetworkX em seus exemplos, porém, os exemplos são apresentados de forma mais clara. As páginas de exemplo da igraph em geral contém explicações sobre o exemplo em questão, além de opções de download em formato notebook ou python. "
      ],
      "metadata": {
        "id": "EKaRMqwAOnm1"
      }
    },
    {
      "cell_type": "markdown",
      "source": [
        "# Pacotes utilizados"
      ],
      "metadata": {
        "id": "i9psIrcSIjl7"
      }
    },
    {
      "cell_type": "code",
      "source": [
        "!pip install igraph\n",
        "\n",
        "import igraph as ig\n",
        "import matplotlib.pyplot as plt"
      ],
      "metadata": {
        "colab": {
          "base_uri": "https://localhost:8080/"
        },
        "id": "Z6KTpA7tgQVT",
        "outputId": "bce72610-6a24-40db-e136-cd11be1ceb2c"
      },
      "execution_count": 5,
      "outputs": [
        {
          "output_type": "stream",
          "name": "stdout",
          "text": [
            "Looking in indexes: https://pypi.org/simple, https://us-python.pkg.dev/colab-wheels/public/simple/\n",
            "Requirement already satisfied: igraph in /usr/local/lib/python3.8/dist-packages (0.10.3)\n",
            "Requirement already satisfied: texttable>=1.6.2 in /usr/local/lib/python3.8/dist-packages (from igraph) (1.6.7)\n"
          ]
        }
      ]
    },
    {
      "cell_type": "markdown",
      "source": [
        "# Operações básicas em grafos usando igraph\n",
        "\n",
        "- Criar grafo\n",
        "- Adição de vertices e arestas\n",
        "- Remoção de vertices e arestas\n",
        "- Grafos dirigidos, dígrafos, grafos ponderado\n",
        "- Visualização de grafos\n",
        "- Acesso à vertices e arestas\n",
        "- União de grafos\n",
        "- Composição de grafos\n",
        "- Conversão de grafos\n",
        "  - Grafos dirigidos em não dirigidos\n",
        "  - Grafos nao dirigidos em dirigidos\n",
        "  - Grafos ponderados em nao ponderados."
      ],
      "metadata": {
        "id": "eEtrLYLGIwja"
      }
    },
    {
      "cell_type": "markdown",
      "source": [
        "### Lista de links importantes da documentação do igraph-python\n",
        "\n",
        "- Lista de funções https://igraph.org/python/api/latest/igraph._igraph.Vertex.html"
      ],
      "metadata": {
        "id": "vJmGCi6KNTSx"
      }
    },
    {
      "cell_type": "markdown",
      "source": [
        "## Criando grafos\n",
        "\n",
        "Construtores do objeto grafo: https://igraph.readthedocs.io/en/stable/api/igraph.Graph.html\n",
        "\n",
        "Layout para grafos: https://igraph.org/python/tutorial/0.9.6/visualisation.html#graph-layouts"
      ],
      "metadata": {
        "id": "lDSL1nC0KXkq"
      }
    },
    {
      "cell_type": "code",
      "source": [
        "# G = ig.Graph() \n",
        "edgelist = [[0, 1], [1, 2], [2, 0], [3, 2], [5, 0], [5, 1], [5, 3], \n",
        "            [4, 3], [4, 0], [2, 5]]\n",
        "labels = [0, 1, 2, 3, 4, 5]\n",
        "# n = numero de vertices\n",
        "G = ig.Graph(n = 6, edges = edgelist)\n",
        "\n",
        "fig, ax = plt.subplots(figsize=(5,5))\n",
        "layout = G.layout(\"auto\")\n",
        "ig.plot(G, target=ax, vertex_label = labels, layout=layout)\n",
        "plt.show()"
      ],
      "metadata": {
        "colab": {
          "base_uri": "https://localhost:8080/",
          "height": 303
        },
        "id": "wE-eH7haKbsf",
        "outputId": "3d709b1c-f66d-4608-99f0-22ad1fd0962f"
      },
      "execution_count": 46,
      "outputs": [
        {
          "output_type": "display_data",
          "data": {
            "text/plain": [
              "<Figure size 360x360 with 1 Axes>"
            ],
            "image/png": "[encoded data removed]"
          },
          "metadata": {}
        }
      ]
    },
    {
      "cell_type": "code",
      "source": [
        "print(edgelist)"
      ],
      "metadata": {
        "colab": {
          "base_uri": "https://localhost:8080/"
        },
        "id": "BJ1BEA-uMjvq",
        "outputId": "83615f46-d2b1-4517-c1ff-684ea08e8bca"
      },
      "execution_count": 30,
      "outputs": [
        {
          "output_type": "stream",
          "name": "stdout",
          "text": [
            "[[0, 1], [1, 2], [2, 0], [3, 2], [5, 0], [5, 1], [5, 3], [4, 3], [4, 0], [2, 5]]\n"
          ]
        }
      ]
    },
    {
      "cell_type": "code",
      "source": [
        "print(G.attributes())"
      ],
      "metadata": {
        "colab": {
          "base_uri": "https://localhost:8080/"
        },
        "id": "LgKA1tyjMlDp",
        "outputId": "4c9037a9-cd08-4c5e-a06c-bad7be71e709"
      },
      "execution_count": 45,
      "outputs": [
        {
          "output_type": "stream",
          "name": "stdout",
          "text": [
            "[]\n"
          ]
        }
      ]
    },
    {
      "cell_type": "code",
      "source": [],
      "metadata": {
        "id": "5_LwIIzWKaKr"
      },
      "execution_count": null,
      "outputs": []
    },
    {
      "cell_type": "code",
      "execution_count": 13,
      "metadata": {
        "colab": {
          "base_uri": "https://localhost:8080/",
          "height": 303
        },
        "id": "Cm25PEfqe4SW",
        "outputId": "1fb17e23-0f49-488c-cec0-ba4f5cdddc6e"
      },
      "outputs": [
        {
          "output_type": "display_data",
          "data": {
            "text/plain": [
              "<Figure size 360x360 with 1 Axes>"
            ],
            "image/png": "[encoded data removed]"
          },
          "metadata": {}
        }
      ],
      "source": [
        "# Construct a graph with 3 vertices\n",
        "n_vertices = 3\n",
        "edges = [(0, 1), (0, 2), (0, 3), (0, 4), (1, 2), (1, 3), (1, 4), (3, 4)]\n",
        "g = ig.Graph(n_vertices, edges)\n",
        "\n",
        "\n",
        "fig, ax = plt.subplots(figsize=(5,5))\n",
        "ig.plot(\n",
        "    g,\n",
        "    target=ax,\n",
        "    layout=\"circle\",\n",
        "    vertex_size=0.1,\n",
        "    vertex_frame_width=4.0,\n",
        "    vertex_frame_color=\"white\",\n",
        "    vertex_label_size=7.0)\n",
        "\n",
        "plt.show()"
      ]
    }
  ]
}